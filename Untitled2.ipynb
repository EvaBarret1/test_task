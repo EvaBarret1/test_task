{
 "cells": [
  {
   "cell_type": "code",
   "execution_count": null,
   "id": "52bace8a-e713-442a-8aed-9e70ae257f24",
   "metadata": {},
   "outputs": [],
   "source": []
  },
  {
   "cell_type": "code",
   "execution_count": 18,
   "id": "2f908593-41e4-445e-b683-035fdb5db54e",
   "metadata": {},
   "outputs": [
    {
     "name": "stdout",
     "output_type": "stream",
     "text": [
      "Количество входящих людей: 78\n",
      "Количество выходящих людей: 433\n"
     ]
    }
   ],
   "source": [
    "import json\n",
    "\n",
    "def count_entries_exits(json_file_path):\n",
    "    # Открываем JSON-файл и загружаем данные\n",
    "    with open(json_file_path) as f:\n",
    "        data = json.load(f)\n",
    "    \n",
    "    # Получаем координаты линии входа/выхода из JSON-данных\n",
    "    entry_line_coords = data[\"eventSpecific\"][\"nnDetect\"][\"10_8_3_203_rtsp_camera_3\"][\"cfg\"][\"cross_lines\"][0][\"ext_line\"]\n",
    "    exit_line_coords = data[\"eventSpecific\"][\"nnDetect\"][\"10_8_3_203_rtsp_camera_3\"][\"cfg\"][\"cross_lines\"][0][\"int_line\"]\n",
    "    \n",
    "    # Инициализируем счетчики входящих и выходящих людей\n",
    "    entries = 0\n",
    "    exits = 0\n",
    "    \n",
    "    # Обрабатываем каждый кадр из JSON-данных\n",
    "    for frame in data[\"eventSpecific\"][\"nnDetect\"][\"10_8_3_203_rtsp_camera_3\"][\"frames\"].values():\n",
    "        # Обрабатываем каждого обнаруженного человека в кадре\n",
    "        for person in frame[\"detected\"][\"person\"]:\n",
    "            # Проверяем, если есть достаточно значений для детектированного человека\n",
    "            if len(person) >= 6:\n",
    "                # Извлекаем координаты человека\n",
    "                x1, y1, x2, y2, _, _ = person\n",
    "              \n",
    "                # Проверяем, пересекает ли координата вертикальную линию входа/выхода\n",
    "                if x1 < entry_line_coords[0] and x2 > entry_line_coords[0]:\n",
    "                    # Если пересекает линию входа, увеличиваем счетчик входящих людей\n",
    "                    entries += 1\n",
    "                elif x1 < exit_line_coords[0] and x2 > exit_line_coords[0]:\n",
    "                    # Если пересекает линию выхода, увеличиваем счетчик выходящих людей\n",
    "                    exits += 1\n",
    "    \n",
    "    return entries, exits\n",
    "\n",
    "# Использование\n",
    "json_file_path = \"C:/Users/Eva/Desktop/csv/detections.json\"\n",
    "entry_count, exit_count = count_entries_exits(json_file_path)\n",
    "\n",
    "print(\"Количество входящих людей:\", entry_count)\n",
    "print(\"Количество выходящих людей:\", exit_count)\n"
   ]
  },
  {
   "cell_type": "code",
   "execution_count": 21,
   "id": "c59f8b19-bbe2-457d-8c31-da7138ef9bbb",
   "metadata": {},
   "outputs": [
    {
     "name": "stdout",
     "output_type": "stream",
     "text": [
      "Количество входящих людей: 3\n",
      "Количество выходящих людей: 2\n"
     ]
    }
   ],
   "source": [
    "import json\n",
    "\n",
    "def count_entries_exits(json_file_path):\n",
    "    with open(json_file_path) as f:\n",
    "        data = json.load(f)\n",
    "    \n",
    "    # Извлекаем координаты линии входа/выхода из JSON-данных\n",
    "    entry_line_coords = data[\"eventSpecific\"][\"nnDetect\"][\"10_8_3_203_rtsp_camera_3\"][\"cfg\"][\"cross_lines\"][0][\"ext_line\"]\n",
    "    exit_line_coords = data[\"eventSpecific\"][\"nnDetect\"][\"10_8_3_203_rtsp_camera_3\"][\"cfg\"][\"cross_lines\"][0][\"int_line\"]\n",
    "    \n",
    "    entries = 0\n",
    "    exits = 0\n",
    "    \n",
    "    previous_persons = set()  # Создаем множество для хранения идентификаторов предыдущих людей\n",
    "    \n",
    "    # Обрабатываем каждый кадр из JSON-данных\n",
    "    for frame in data[\"eventSpecific\"][\"nnDetect\"][\"10_8_3_203_rtsp_camera_3\"][\"frames\"].values():\n",
    "        # Обрабатываем каждого обнаруженного человека в кадре\n",
    "        for person in frame[\"detected\"][\"person\"]:\n",
    "            if len(person) >= 6:\n",
    "                # Извлекаем координаты и информацию о человеке\n",
    "                x1, y1, x2, y2, _, person_info = person\n",
    "                \n",
    "                # Извлекаем идентификатор человека из информации о человеке\n",
    "                person_id = person_info[list(person_info.keys())[0]][\"track_id\"]\n",
    "                \n",
    "                # Проверяем, если идентификатор уже был учтен, пропускаем текущего человека\n",
    "                if person_id in previous_persons:\n",
    "                    continue\n",
    "              \n",
    "                # Проверяем, пересекает ли координата вертикальную линию входа/выхода\n",
    "                if x1 < entry_line_coords[0] and x2 > entry_line_coords[0]:\n",
    "                    entries += 1\n",
    "                elif x1 < exit_line_coords[0] and x2 > exit_line_coords[0]:\n",
    "                    exits += 1\n",
    "                \n",
    "                # Добавляем идентификатор в множество предыдущих людей\n",
    "                previous_persons.add(person_id)\n",
    "\n",
    "    return entries, exits\n",
    "\n",
    "#Использования\n",
    "json_file_path = \"C:/Users/Eva/Desktop/csv/detections.json\"\n",
    "entry_count, exit_count = count_entries_exits(json_file_path)\n",
    "\n",
    "print(\"Количество входящих людей:\", entry_count)\n",
    "print(\"Количество выходящих людей:\", exit_count)"
   ]
  },
  {
   "cell_type": "code",
   "execution_count": null,
   "id": "4d78ec58-632c-4f4e-8e74-39cbc298029b",
   "metadata": {},
   "outputs": [],
   "source": [import json

def count_entries_exits(json_file_path):
    with open(json_file_path) as f:
        data = json.load(f)

    # Извлекаем координаты линии входа/выхода из JSON-данных
    entry_line_coords = data["eventSpecific"]["nnDetect"]["10_8_3_203_rtsp_camera_3"]["cfg"]["cross_lines"][0]["ext_line"]
    exit_line_coords = data["eventSpecific"]["nnDetect"]["10_8_3_203_rtsp_camera_3"]["cfg"]["cross_lines"][0]["int_line"]

    entries = 0
    exits = 0

    previous_persons = set()  # Создаем множество для хранения идентификаторов предыдущих людей

    # Обрабатываем каждый кадр из JSON-данных
    for frame in data["eventSpecific"]["nnDetect"]["10_8_3_203_rtsp_camera_3"]["frames"].values():
        # Обрабатываем каждого обнаруженного человека в кадре
        for person in frame["detected"]["person"]:
            if len(person) >= 6:
                # Извлекаем координаты и информацию о человеке
                x1, y1, x2, y2, _, person_info = person

                # Вычисляем середину прямоугольника
                x_center = (x1 + x2) / 2
                y_center = (y1 + y2) / 2

                # Вычисляем расстояния от середины до линий входа и выхода
                distance_to_entry = abs(entry_line_coords[0] - x_center)
                distance_to_exit = abs(exit_line_coords[0] - x_center)

                # Извлекаем идентификатор человека из информации о человеке
                person_id = person_info[list(person_info.keys())[0]]["track_id"]

                # Проверяем, если идентификатор уже был учтен, пропускаем текущего человека
                if person_id in previous_persons:
                    continue
                # Проверяем условие на основе длины перпендикуляров
                if distance_to_entry > distance_to_exit:
                    exits += 1
                else:
                    entries += 1

                

                # Добавляем идентификатор в множество предыдущих людей
                previous_persons.add(person_id)

    return entries, exits

# Использование
json_file_path = "C:/Users/Eva/Desktop/csv/detections.json"
entry_count, exit_count = count_entries_exits(json_file_path)

print("Количество входящих людей:", entry_count)
print("Количество выходящих людей:", exit_count)
]
  },
  {
   "cell_type": "code",
   "execution_count": null,
   "id": "ef669b1e-bd86-4722-ae1e-6550eaa9c66c",
   "metadata": {},
   "outputs": [],
   "source": []
  }
 ],
 "metadata": {
  "kernelspec": {
   "display_name": "Python 3 (ipykernel)",
   "language": "python",
   "name": "python3"
  },
  "language_info": {
   "codemirror_mode": {
    "name": "ipython",
    "version": 3
   },
   "file_extension": ".py",
   "mimetype": "text/x-python",
   "name": "python",
   "nbconvert_exporter": "python",
   "pygments_lexer": "ipython3",
   "version": "3.8.10"
  }
 },
 "nbformat": 4,
 "nbformat_minor": 5
}
